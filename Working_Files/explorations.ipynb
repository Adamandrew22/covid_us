{
 "metadata": {
  "language_info": {
   "codemirror_mode": {
    "name": "ipython",
    "version": 3
   },
   "file_extension": ".py",
   "mimetype": "text/x-python",
   "name": "python",
   "nbconvert_exporter": "python",
   "pygments_lexer": "ipython3",
   "version": "3.8.3-final"
  },
  "orig_nbformat": 2,
  "kernelspec": {
   "name": "python3",
   "display_name": "Python 3"
  }
 },
 "nbformat": 4,
 "nbformat_minor": 2,
 "cells": [
  {
   "cell_type": "code",
   "execution_count": 115,
   "metadata": {},
   "outputs": [
    {
     "output_type": "stream",
     "name": "stdout",
     "text": [
      "/Users/user/Programming/Repos/covid_us\n"
     ]
    }
   ],
   "source": [
    "import pandas as pd\n",
    "import numpy as np\n",
    "import os\n",
    "import sys\n",
    "\n",
    "os.chdir('/Users/user/Programming/Repos/covid_us/')\n",
    "print(os.getcwd())"
   ]
  },
  {
   "cell_type": "code",
   "execution_count": 129,
   "metadata": {},
   "outputs": [],
   "source": [
    "cases  = pd.read_csv('Data/CONVENIENT_us_confirmed_cases.csv',header = [0,1])\n",
    "newcols = [i[0].replace(' ','_') + '_/_' + i[1].replace(' ','_') for i in cases.columns]\n",
    "newcols[0] = 'Date'\n",
    "cases.columns = newcols\n",
    "\n",
    "deaths = pd.read_csv('Data/CONVENIENT_us_deaths.csv', header = [0,1])\n",
    "newcols = [i[0].replace(' ','_') + '_/_' + i[1].replace(' ','_') for i in deaths.columns]\n",
    "newcols[0] = 'Date'\n",
    "deaths.columns = newcols\n",
    "\n",
    "meta   = pd.read_csv('Data/CONVENIENT_us_metadata.csv')\n",
    "meta.columns = ['State', 'District'] + [i for i in meta.columns[2:]]\n",
    "\n",
    "cases_melt = pd.melt(cases, id_vars = ['Date'])\n",
    "cases_melt['State']    = cases_melt['variable'].apply(lambda x: x[:x.index('_/_')])\n",
    "cases_melt['District'] = cases_melt['variable'].apply(lambda x: x[x.index('_/_')+3:])\n",
    "cases_melt = cases_melt.drop(['variable'], axis = 1)\n",
    "cases_melt = cases_melt.rename(columns={'value': 'Cases'})\n",
    "\n",
    "deaths_melt = pd.melt(deaths, id_vars = ['Date'])\n",
    "deaths_melt['State']    = deaths_melt['variable'].apply(lambda x: x[:x.index('_/_')])\n",
    "deaths_melt['District'] = deaths_melt['variable'].apply(lambda x: x[x.index('_/_')+3:])\n",
    "deaths_melt = deaths_melt.drop(['variable'], axis = 1)\n",
    "deaths_melt = deaths_melt.rename(columns={'value': 'Deaths'})"
   ]
  },
  {
   "cell_type": "code",
   "execution_count": 133,
   "metadata": {
    "tags": []
   },
   "outputs": [],
   "source": [
    "full_df = cases_melt.merge(deaths_melt, on = ['State', 'District', 'Date'], how = 'outer')\n",
    "full_df = full_df[['Date', 'State', 'District', 'Cases', 'Deaths']]"
   ]
  },
  {
   "cell_type": "code",
   "execution_count": null,
   "metadata": {},
   "outputs": [],
   "source": []
  }
 ]
}