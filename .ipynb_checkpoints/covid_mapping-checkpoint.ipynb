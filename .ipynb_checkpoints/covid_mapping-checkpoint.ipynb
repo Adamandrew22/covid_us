{
 "cells": [
  {
   "cell_type": "code",
   "execution_count": 13,
   "metadata": {},
   "outputs": [
    {
     "name": "stdout",
     "output_type": "stream",
     "text": [
      "/Users/adamandrew/Programming/Projects/Repos/covid_us\n"
     ]
    }
   ],
   "source": [
    "import pandas as pd\n",
    "import numpy as np\n",
    "import os\n",
    "import sys\n",
    "from datetime import datetime as dt\n",
    "import matplotlib.pyplot as plt\n",
    "import seaborn as sns\n",
    "import mpl_toolkits as mpltk\n",
    "\n",
    "%matplotlib inline\n",
    "\n",
    "os.chdir('/Users/adamandrew/Programming/Projects/Repos/covid_us/')\n",
    "print(os.getcwd())"
   ]
  },
  {
   "cell_type": "markdown",
   "metadata": {},
   "source": [
    "# Data pre-processing"
   ]
  },
  {
   "cell_type": "code",
   "execution_count": 183,
   "metadata": {
    "scrolled": true
   },
   "outputs": [
    {
     "name": "stdout",
     "output_type": "stream",
     "text": [
      "<class 'pandas.core.frame.DataFrame'>\n",
      "Int64Index: 923373 entries, 0 to 991979\n",
      "Data columns (total 8 columns):\n",
      " #   Column      Non-Null Count   Dtype         \n",
      "---  ------      --------------   -----         \n",
      " 0   Date        923373 non-null  datetime64[ns]\n",
      " 1   State       923373 non-null  object        \n",
      " 2   District    923373 non-null  object        \n",
      " 3   Cases       923373 non-null  float64       \n",
      " 4   Deaths      923373 non-null  float64       \n",
      " 5   Population  923373 non-null  float64       \n",
      " 6   Lat         923373 non-null  float64       \n",
      " 7   Long        923373 non-null  float64       \n",
      "dtypes: datetime64[ns](1), float64(5), object(2)\n",
      "memory usage: 63.4+ MB\n"
     ]
    }
   ],
   "source": [
    "cases  = pd.read_csv('Data/CONVENIENT_us_confirmed_cases.csv',header = [0,1])\n",
    "newcols = [i[0].replace(' ','_') + '_/_' + i[1].replace(' ','_') for i in cases.columns]\n",
    "newcols[0] = 'Date'\n",
    "cases.columns = newcols\n",
    "cases_melt = pd.melt(cases, id_vars = ['Date'])\n",
    "cases_melt['State']    = cases_melt['variable'].apply(lambda x: x[:x.index('_/_')])\n",
    "cases_melt['District'] = cases_melt['variable'].apply(lambda x: x[x.index('_/_')+3:])\n",
    "cases_melt = cases_melt.drop(['variable'], axis = 1)\n",
    "cases = cases_melt.rename(columns={'value': 'Cases'})\n",
    "\n",
    "deaths = pd.read_csv('Data/CONVENIENT_us_deaths.csv', header = [0,1])\n",
    "newcols = [i[0].replace(' ','_') + '_/_' + i[1].replace(' ','_') for i in deaths.columns]\n",
    "newcols[0] = 'Date'\n",
    "deaths.columns = newcols\n",
    "deaths_melt = pd.melt(deaths, id_vars = ['Date'])\n",
    "deaths_melt['State']    = deaths_melt['variable'].apply(lambda x: x[:x.index('_/_')])\n",
    "deaths_melt['District'] = deaths_melt['variable'].apply(lambda x: x[x.index('_/_')+3:])\n",
    "deaths_melt = deaths_melt.drop(['variable'], axis = 1)\n",
    "deaths = deaths_melt.rename(columns={'value': 'Deaths'})\n",
    "\n",
    "meta   = pd.read_csv('Data/CONVENIENT_us_metadata.csv')\n",
    "meta.columns = ['State', 'District'] + [i for i in meta.columns[2:]]\n",
    "\n",
    "meta['State'] = meta['State'].apply(lambda x: x.replace(' ','_'))\n",
    "meta['District'] = meta['District'].apply(lambda x: '_Nan' if pd.isnull(x) else x)\n",
    "meta['District'] = meta['District'].apply(lambda x: x.replace(' ','_'))\n",
    "\n",
    "case_death = cases.merge(deaths, on = ['State', 'District', 'Date'], how = 'outer')\n",
    "\n",
    "full_df = case_death.merge(meta, on = ['State', 'District'], how = 'left')\n",
    "full_df['Date'] = full_df['Date'].apply(lambda x: dt.strptime(x, \"%m/%d/%y\"))\n",
    "full_df = full_df[['Date', 'State', 'District', 'Cases', 'Deaths', 'Population', 'Lat', 'Long']]\n",
    "\n",
    "full_df = full_df[full_df['Population'] > 0]\n",
    "full_df = full_df[full_df['Long'] < 0]\n",
    "full_df = full_df[full_df['Long'] > -130]\n",
    "full_df = full_df[full_df['Lat'] > 21]\n",
    "\n",
    "\n",
    "locations = full_df[['State', 'District', 'Population', 'Lat', 'Long']].drop_duplicates().reset_index(drop=True)\n",
    "locations.to_csv('locs.csv', index = False)\n",
    "\n",
    "full_df.info()"
   ]
  },
  {
   "cell_type": "markdown",
   "metadata": {},
   "source": [
    "# Plotting population"
   ]
  },
  {
   "cell_type": "code",
   "execution_count": null,
   "metadata": {},
   "outputs": [],
   "source": []
  }
 ],
 "metadata": {
  "kernelspec": {
   "display_name": "Python 3",
   "language": "python",
   "name": "python3"
  },
  "language_info": {
   "codemirror_mode": {
    "name": "ipython",
    "version": 3
   },
   "file_extension": ".py",
   "mimetype": "text/x-python",
   "name": "python",
   "nbconvert_exporter": "python",
   "pygments_lexer": "ipython3",
   "version": "3.8.5"
  }
 },
 "nbformat": 4,
 "nbformat_minor": 2
}
